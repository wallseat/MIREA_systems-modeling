{
 "cells": [
  {
   "cell_type": "markdown",
   "metadata": {},
   "source": [
    "### Задание 1.\n",
    "Определим функцию calc_PI для вычисления значения числа PI методом Монте-Карло"
   ]
  },
  {
   "cell_type": "code",
   "execution_count": 13,
   "metadata": {},
   "outputs": [],
   "source": [
    "import numpy as np\n",
    "import numba as nb\n",
    "\n",
    "\n",
    "@nb.njit(parallel=True, fastmath=True)\n",
    "def calc_PI(\n",
    "    x0: np.float64, y0: np.float64, r0: np.float64, exp_num: np.int64\n",
    ") -> np.float64:\n",
    "\n",
    "    r0_pow_2 = np.power(r0, 2)\n",
    "    x_max = x0 + r0\n",
    "    x_min = x0 - r0\n",
    "    y_max = y0 + r0\n",
    "    y_min = y0 - r0\n",
    "\n",
    "    xp = (x_max - x_min) * np.random.random(exp_num) + x_min\n",
    "    yp = (y_max - y_min) * np.random.random(exp_num) + y_min\n",
    "\n",
    "    return 4 * np.sum((xp - x0) ** 2 + (yp - y0) ** 2 < r0_pow_2) / exp_num\n"
   ]
  },
  {
   "cell_type": "markdown",
   "metadata": {},
   "source": [
    "### Задание 2\n",
    "Создадим 5 серий значений для количества экспериментов 10^4, 10^5, 10^6, 10^7, 10^8 и начальных параметров x0 = 1, y0 = 2, r0 = 5"
   ]
  },
  {
   "cell_type": "code",
   "execution_count": 16,
   "metadata": {},
   "outputs": [
    {
     "name": "stdout",
     "output_type": "stream",
     "text": [
      "Series1: [3.1448     3.14576    3.141356   3.1412768  3.14182188]\n",
      "Series2: [3.1076     3.14348    3.142136   3.1417896  3.14153956]\n",
      "Series3: [3.148      3.13172    3.141076   3.1417004  3.14153308]\n",
      "Series4: [3.1316     3.1352     3.143432   3.14121    3.14145148]\n",
      "Series5: [3.1464    3.13472   3.141416  3.1421372 3.1416642]\n"
     ]
    }
   ],
   "source": [
    "x0 = 1\n",
    "y0 = 2\n",
    "r0 = 4\n",
    "\n",
    "series = np.array(\n",
    "    [\n",
    "        np.array(\n",
    "            [\n",
    "                calc_PI(x0, y0, r0, exp_num)\n",
    "                for exp_num in (10_000, 100_000, 1_000_000, 10_000_000, 100_000_000)\n",
    "            ],\n",
    "            dtype=np.float64,\n",
    "        )\n",
    "        for _ in range(5)\n",
    "    ]\n",
    ")\n",
    "\n",
    "for i, c_series in enumerate(series):\n",
    "    print(f\"Series{i + 1}: {c_series}\")\n"
   ]
  },
  {
   "cell_type": "markdown",
   "metadata": {},
   "source": [
    "### Задание 3.1\n",
    "Рассчитаем погрешности для каждого значения в каждой серии"
   ]
  },
  {
   "cell_type": "code",
   "execution_count": 17,
   "metadata": {},
   "outputs": [
    {
     "name": "stdout",
     "output_type": "stream",
     "text": [
      "Series1: [1.02093007e-03 1.32650756e-03 7.53291772e-05 1.00539320e-04\n",
      " 7.29650325e-05]\n",
      "Series2: [1.08201977e-02 6.00761021e-04 1.72952534e-04 6.26899894e-05\n",
      " 1.69002145e-05]\n",
      "Series3: [2.03952171e-03 3.14256324e-03 1.64455945e-04 3.42967476e-05\n",
      " 1.89628626e-05]\n",
      "Series4: [3.18076043e-03 2.03484484e-03 5.85482146e-04 1.21802421e-04\n",
      " 4.49369493e-05]\n",
      "Series5: [1.53022589e-03 2.18763358e-03 5.62305841e-05 1.73334506e-04\n",
      " 2.27739297e-05]\n"
     ]
    }
   ],
   "source": [
    "series_error = np.abs((series - np.pi) / np.pi)\n",
    "\n",
    "for i, c_series_errors in enumerate(series_error):\n",
    "    print(f\"Series{i + 1}: {c_series_errors}\")"
   ]
  },
  {
   "cell_type": "markdown",
   "metadata": {},
   "source": [
    "### Задание 3.2\n",
    "Рассчитаем погрешности по среднему результату"
   ]
  },
  {
   "cell_type": "code",
   "execution_count": 18,
   "metadata": {},
   "outputs": [
    {
     "name": "stdout",
     "output_type": "stream",
     "text": [
      "Среднее значение погрешности вычислений для 10^4 испытаний: 1.8820560912e-03\n",
      "Среднее значение погрешности вычислений для 10^5 испытаний: 1.0875546153e-03\n",
      "Среднее значение погрешности вычислений для 10^6 испытаний: 9.2483794764e-05\n",
      "Среднее значение погрешности вычислений для 10^7 испытаний: 9.5959004019e-06\n",
      "Среднее значение погрешности вычислений для 10^8 испытаний: 2.9877871646e-06\n"
     ]
    }
   ],
   "source": [
    "S_e = np.sum(series[:, :], axis=0) / len(series)\n",
    "Eps_S_e = np.abs((S_e - np.pi) / np.pi)\n",
    "\n",
    "for i, c_eps_s_e in enumerate(Eps_S_e):\n",
    "    print(\n",
    "        f\"Среднее значение погрешности вычислений для 10^{4 + i} испытаний: {c_eps_s_e:.10e}\"\n",
    "    )\n"
   ]
  },
  {
   "cell_type": "markdown",
   "metadata": {},
   "source": [
    "### Задание 4\n",
    "1. Определим функцию calc_integral для определения значения интеграла методом Монте-Карло\n",
    "2. Рассчитаем значение интеграла для функции $f(x) = x^3 + 1$\n",
    "3. Рассчитаем погрешности для каждого эксперимента\n",
    "4. Рассчитаем погрешности по средним результатам\n",
    "\n",
    "Начальные условия: a = 0, b = 2, ExpNmb = 10^4, 10^5, 10^6, 10^7. Численное значение интеграла - 6"
   ]
  },
  {
   "cell_type": "markdown",
   "metadata": {},
   "source": [
    "#### 4.1"
   ]
  },
  {
   "cell_type": "code",
   "execution_count": 2,
   "metadata": {},
   "outputs": [],
   "source": [
    "from typing import Callable\n",
    "\n",
    "import numba as nb\n",
    "import numpy as np\n",
    "\n",
    "@nb.njit(parallel=True, fastmath=True)\n",
    "def calc_integral(\n",
    "    func: Callable[[np.float64], np.float64],\n",
    "    a: np.float64,\n",
    "    b: np.float64,\n",
    "    exp_num: np.int64,\n",
    ") -> np.float64:\n",
    "    m = 0\n",
    "\n",
    "    x_min = a\n",
    "    x_max = b\n",
    "    y_min = 0\n",
    "    y_max = func(b)\n",
    "\n",
    "    for _ in nb.prange(exp_num):\n",
    "        xp = (x_max - x_min) * np.random.random() + x_min\n",
    "        yp = (y_max - y_min) * np.random.random() + y_min\n",
    "        if yp <= func(xp):\n",
    "            m += 1\n",
    "\n",
    "    return (m / exp_num) * (b - a) * y_max\n"
   ]
  },
  {
   "cell_type": "markdown",
   "metadata": {},
   "source": [
    "#### 4.2"
   ]
  },
  {
   "cell_type": "code",
   "execution_count": 5,
   "metadata": {},
   "outputs": [
    {
     "name": "stdout",
     "output_type": "stream",
     "text": [
      "Series1: [5.949      5.9562     5.981688   6.00017276]\n",
      "Series2: [6.0786     5.98104    6.000246   5.99966638]\n",
      "Series3: [5.9256     5.95314    5.988168   6.00049017]\n",
      "Series4: [6.0534     5.9823     5.993298   5.99983546]\n",
      "Series5: [5.994      5.95764    5.990634   6.00025457]\n"
     ]
    }
   ],
   "source": [
    "a = 0\n",
    "b = 2\n",
    "\n",
    "\n",
    "@nb.njit(fastmath=True)\n",
    "def func(x: np.float64) -> np.float64:\n",
    "    return np.power(x, 3) + 1\n",
    "\n",
    "\n",
    "series = np.array(\n",
    "    [\n",
    "        np.array(\n",
    "            [\n",
    "                calc_integral(func, a, b, exp_num)\n",
    "                for exp_num in (10_000, 100_000, 1_000_000, 10_000_000)\n",
    "            ],\n",
    "            dtype=np.float64,\n",
    "        )\n",
    "        for _ in range(5)\n",
    "    ]\n",
    ")\n",
    "\n",
    "for i, c_series in enumerate(series):\n",
    "    print(f\"Series{i + 1}: {c_series}\")"
   ]
  },
  {
   "cell_type": "markdown",
   "metadata": {},
   "source": [
    "#### 4.3.1"
   ]
  },
  {
   "cell_type": "code",
   "execution_count": null,
   "metadata": {},
   "outputs": [
    {
     "name": "stdout",
     "output_type": "stream",
     "text": [
      "Series1: [0.0071    0.00421   0.000502  0.0006133]\n",
      "Series2: [1.400e-03 2.540e-03 1.418e-03 4.180e-05]\n",
      "Series3: [0.0058    0.00314   0.001547  0.0005786]\n",
      "Series4: [1.90e-03 2.74e-03 4.90e-04 6.37e-05]\n",
      "Series5: [0.0037    0.00697   0.000763  0.0004889]\n"
     ]
    }
   ],
   "source": [
    "answer = 6\n",
    "\n",
    "series_error = np.abs((series - answer) / answer)\n",
    "\n",
    "for i, c_series_errors in enumerate(series_error):\n",
    "    print(f\"Series{i + 1}: {c_series_errors}\")"
   ]
  },
  {
   "cell_type": "markdown",
   "metadata": {},
   "source": [
    "#### 4.3.2"
   ]
  },
  {
   "cell_type": "code",
   "execution_count": null,
   "metadata": {},
   "outputs": [
    {
     "name": "stdout",
     "output_type": "stream",
     "text": [
      "Среднее значение погрешности вычислений для 10^4 испытаний: 5.8000000000e-04\n",
      "Среднее значение погрешности вычислений для 10^5 испытаний: 1.6480000000e-03\n",
      "Среднее значение погрешности вычислений для 10^6 испытаний: 2.4200000000e-04\n",
      "Среднее значение погрешности вычислений для 10^7 испытаний: 6.9740000000e-05\n"
     ]
    }
   ],
   "source": [
    "S_e = np.sum(series[:, :], axis=0) / len(series)\n",
    "Eps_S_e = np.abs((S_e - answer) / answer)\n",
    "\n",
    "for i, c_eps_s_e in enumerate(Eps_S_e):\n",
    "    print(\n",
    "        f\"Среднее значение погрешности вычислений для 10^{4 + i} испытаний: {c_eps_s_e:.10e}\"\n",
    "    )\n"
   ]
  }
 ],
 "metadata": {
  "kernelspec": {
   "display_name": "Python 3.10.4 ('.venv': venv)",
   "language": "python",
   "name": "python3"
  },
  "language_info": {
   "codemirror_mode": {
    "name": "ipython",
    "version": 3
   },
   "file_extension": ".py",
   "mimetype": "text/x-python",
   "name": "python",
   "nbconvert_exporter": "python",
   "pygments_lexer": "ipython3",
   "version": "3.10.4"
  },
  "orig_nbformat": 4,
  "vscode": {
   "interpreter": {
    "hash": "6c8cd97b3d350f6c05cf9b462bbd1bc23e5af9bc60b5f942ac39c60ece023617"
   }
  }
 },
 "nbformat": 4,
 "nbformat_minor": 2
}
